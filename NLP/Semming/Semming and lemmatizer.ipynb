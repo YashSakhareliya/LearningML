{
 "cells": [
  {
   "cell_type": "code",
   "execution_count": 1,
   "id": "c0a03d25-fe62-494c-9e04-f48f3cb17605",
   "metadata": {},
   "outputs": [],
   "source": [
    "import nltk"
   ]
  },
  {
   "cell_type": "markdown",
   "id": "13717e1d-e075-462f-8c48-a3008b2c7b0f",
   "metadata": {},
   "source": [
    "### Porter semming"
   ]
  },
  {
   "cell_type": "code",
   "execution_count": null,
   "id": "8314b67b-dd43-428f-b7e5-5fc30fbd1398",
   "metadata": {},
   "outputs": [],
   "source": []
  },
  {
   "cell_type": "code",
   "execution_count": 2,
   "id": "21e41401-41f3-447a-986e-56ae80857370",
   "metadata": {},
   "outputs": [],
   "source": [
    "from nltk.stem import PorterStemmer"
   ]
  },
  {
   "cell_type": "code",
   "execution_count": 3,
   "id": "21d1b760-d87c-40c1-a616-0a3ce8fe351d",
   "metadata": {},
   "outputs": [],
   "source": [
    "corpus = '''From 1992 to 1999 Kalam was scientific adviser to India’s defense minister,\n",
    "and he later served as principal scientific adviser (1999–2001) to the government, \n",
    "with the rank of cabinet minister. During this period he played a key role in the government’s \n",
    "weaponization of missile systems, giving India nuclear capabilities. In 1998 he was one of the chief\n",
    "coordinators of the Pokhran-II series of nuclear tests, in which five bombs were detonated at a test \n",
    "range in the town of Pokhran, Rajasthan state. His prominent role in the country’s nuclear weapons tests \n",
    "solidified India as a nuclear power and established Kalam as a national hero, although the tests caused \n",
    "great concern in the international community. In 1998 Kalam put forward a countrywide plan called \n",
    "Technology Vision 2020, which he described as a road map for transforming India from a less-developed \n",
    "society to a developed one in 20 years. Among other measures, the plan called for increasing agricultural \n",
    "productivity, emphasizing technology as a vehicle for economic growth, and for widening\n",
    "'''"
   ]
  },
  {
   "cell_type": "code",
   "execution_count": 4,
   "id": "bda64722-def7-4c28-abaf-c083eb747dde",
   "metadata": {},
   "outputs": [],
   "source": [
    "# sentance tokenizer\n",
    "from nltk.tokenize import sent_tokenize,word_tokenize "
   ]
  },
  {
   "cell_type": "code",
   "execution_count": 50,
   "id": "71f445e3-a6ac-412e-ac09-24fcc2b21c2c",
   "metadata": {},
   "outputs": [],
   "source": [
    "sentance = nltk.sent_tokenize(corpus)"
   ]
  },
  {
   "cell_type": "code",
   "execution_count": 42,
   "id": "2f083c06-e5bd-49be-86e4-7a27a05787bb",
   "metadata": {},
   "outputs": [
    {
     "data": {
      "text/plain": [
       "['From 1992 to 1999 Kalam was scientific adviser to India’s defense minister,\\nand he later served as principal scientific adviser (1999–2001) to the government, \\nwith the rank of cabinet minister.',\n",
       " 'During this period he played a key role in the government’s \\nweaponization of missile systems, giving India nuclear capabilities.',\n",
       " 'In 1998 he was one of the chief\\ncoordinators of the Pokhran-II series of nuclear tests, in which five bombs were detonated at a test \\nrange in the town of Pokhran, Rajasthan state.',\n",
       " 'His prominent role in the country’s nuclear weapons tests \\nsolidified India as a nuclear power and established Kalam as a national hero, although the tests caused \\ngreat concern in the international community.',\n",
       " 'In 1998 Kalam put forward a countrywide plan called \\nTechnology Vision 2020, which he described as a road map for transforming India from a less-developed \\nsociety to a developed one in 20 years.',\n",
       " 'Among other measures, the plan called for increasing agricultural \\nproductivity, emphasizing technology as a vehicle for economic growth, and for widening']"
      ]
     },
     "execution_count": 42,
     "metadata": {},
     "output_type": "execute_result"
    }
   ],
   "source": [
    "sentance"
   ]
  },
  {
   "cell_type": "code",
   "execution_count": 22,
   "id": "3a85a580-19a5-4144-bc1b-550c525f58e9",
   "metadata": {},
   "outputs": [],
   "source": [
    "from nltk.corpus import stopwords"
   ]
  },
  {
   "cell_type": "code",
   "execution_count": 23,
   "id": "00d7b86b-a14e-4974-990a-e00e23533279",
   "metadata": {},
   "outputs": [
    {
     "name": "stderr",
     "output_type": "stream",
     "text": [
      "[nltk_data] Downloading package stopwords to C:\\Users\\Yash\n",
      "[nltk_data]     sakhareliya\\AppData\\Roaming\\nltk_data...\n",
      "[nltk_data]   Unzipping corpora\\stopwords.zip.\n"
     ]
    },
    {
     "data": {
      "text/plain": [
       "True"
      ]
     },
     "execution_count": 23,
     "metadata": {},
     "output_type": "execute_result"
    }
   ],
   "source": [
    "nltk.download('stopwords')"
   ]
  },
  {
   "cell_type": "code",
   "execution_count": 25,
   "id": "69d12f92-82e6-4ced-97b5-f5ec5b43c0ad",
   "metadata": {
    "scrolled": true
   },
   "outputs": [
    {
     "data": {
      "text/plain": [
       "['i',\n",
       " 'me',\n",
       " 'my',\n",
       " 'myself',\n",
       " 'we',\n",
       " 'our',\n",
       " 'ours',\n",
       " 'ourselves',\n",
       " 'you',\n",
       " \"you're\",\n",
       " \"you've\",\n",
       " \"you'll\",\n",
       " \"you'd\",\n",
       " 'your',\n",
       " 'yours',\n",
       " 'yourself',\n",
       " 'yourselves',\n",
       " 'he',\n",
       " 'him',\n",
       " 'his',\n",
       " 'himself',\n",
       " 'she',\n",
       " \"she's\",\n",
       " 'her',\n",
       " 'hers',\n",
       " 'herself',\n",
       " 'it',\n",
       " \"it's\",\n",
       " 'its',\n",
       " 'itself',\n",
       " 'they',\n",
       " 'them',\n",
       " 'their',\n",
       " 'theirs',\n",
       " 'themselves',\n",
       " 'what',\n",
       " 'which',\n",
       " 'who',\n",
       " 'whom',\n",
       " 'this',\n",
       " 'that',\n",
       " \"that'll\",\n",
       " 'these',\n",
       " 'those',\n",
       " 'am',\n",
       " 'is',\n",
       " 'are',\n",
       " 'was',\n",
       " 'were',\n",
       " 'be',\n",
       " 'been',\n",
       " 'being',\n",
       " 'have',\n",
       " 'has',\n",
       " 'had',\n",
       " 'having',\n",
       " 'do',\n",
       " 'does',\n",
       " 'did',\n",
       " 'doing',\n",
       " 'a',\n",
       " 'an',\n",
       " 'the',\n",
       " 'and',\n",
       " 'but',\n",
       " 'if',\n",
       " 'or',\n",
       " 'because',\n",
       " 'as',\n",
       " 'until',\n",
       " 'while',\n",
       " 'of',\n",
       " 'at',\n",
       " 'by',\n",
       " 'for',\n",
       " 'with',\n",
       " 'about',\n",
       " 'against',\n",
       " 'between',\n",
       " 'into',\n",
       " 'through',\n",
       " 'during',\n",
       " 'before',\n",
       " 'after',\n",
       " 'above',\n",
       " 'below',\n",
       " 'to',\n",
       " 'from',\n",
       " 'up',\n",
       " 'down',\n",
       " 'in',\n",
       " 'out',\n",
       " 'on',\n",
       " 'off',\n",
       " 'over',\n",
       " 'under',\n",
       " 'again',\n",
       " 'further',\n",
       " 'then',\n",
       " 'once',\n",
       " 'here',\n",
       " 'there',\n",
       " 'when',\n",
       " 'where',\n",
       " 'why',\n",
       " 'how',\n",
       " 'all',\n",
       " 'any',\n",
       " 'both',\n",
       " 'each',\n",
       " 'few',\n",
       " 'more',\n",
       " 'most',\n",
       " 'other',\n",
       " 'some',\n",
       " 'such',\n",
       " 'no',\n",
       " 'nor',\n",
       " 'not',\n",
       " 'only',\n",
       " 'own',\n",
       " 'same',\n",
       " 'so',\n",
       " 'than',\n",
       " 'too',\n",
       " 'very',\n",
       " 's',\n",
       " 't',\n",
       " 'can',\n",
       " 'will',\n",
       " 'just',\n",
       " 'don',\n",
       " \"don't\",\n",
       " 'should',\n",
       " \"should've\",\n",
       " 'now',\n",
       " 'd',\n",
       " 'll',\n",
       " 'm',\n",
       " 'o',\n",
       " 're',\n",
       " 've',\n",
       " 'y',\n",
       " 'ain',\n",
       " 'aren',\n",
       " \"aren't\",\n",
       " 'couldn',\n",
       " \"couldn't\",\n",
       " 'didn',\n",
       " \"didn't\",\n",
       " 'doesn',\n",
       " \"doesn't\",\n",
       " 'hadn',\n",
       " \"hadn't\",\n",
       " 'hasn',\n",
       " \"hasn't\",\n",
       " 'haven',\n",
       " \"haven't\",\n",
       " 'isn',\n",
       " \"isn't\",\n",
       " 'ma',\n",
       " 'mightn',\n",
       " \"mightn't\",\n",
       " 'mustn',\n",
       " \"mustn't\",\n",
       " 'needn',\n",
       " \"needn't\",\n",
       " 'shan',\n",
       " \"shan't\",\n",
       " 'shouldn',\n",
       " \"shouldn't\",\n",
       " 'wasn',\n",
       " \"wasn't\",\n",
       " 'weren',\n",
       " \"weren't\",\n",
       " 'won',\n",
       " \"won't\",\n",
       " 'wouldn',\n",
       " \"wouldn't\"]"
      ]
     },
     "execution_count": 25,
     "metadata": {},
     "output_type": "execute_result"
    }
   ],
   "source": [
    "stopwords.words('english')"
   ]
  },
  {
   "cell_type": "code",
   "execution_count": 27,
   "id": "f2e50aa6-2424-48f2-a8d8-ea1e50107032",
   "metadata": {},
   "outputs": [],
   "source": [
    "# semming \n",
    "from nltk.stem import PorterStemmer,SnowballStemmer"
   ]
  },
  {
   "cell_type": "code",
   "execution_count": 28,
   "id": "a1e878f9-5cd6-4b09-9404-3cb2601f8094",
   "metadata": {},
   "outputs": [],
   "source": [
    "porter = PorterStemmer()"
   ]
  },
  {
   "cell_type": "code",
   "execution_count": 33,
   "id": "d6601975-7bd3-4beb-97bf-950a7beae34e",
   "metadata": {
    "scrolled": true
   },
   "outputs": [],
   "source": [
    "# word tokenize\n",
    "for i in range(len(sentance)):\n",
    "    words = nltk.word_tokenize(sentance[i])\n",
    "    words = [porter.stem(word) for word in words if word not in set(stopwords.words('english'))]\n",
    "    sentance[i] = ' '.join(words)"
   ]
  },
  {
   "cell_type": "code",
   "execution_count": 34,
   "id": "a33d8ef3-d58c-4046-8553-5d447b4cfb95",
   "metadata": {},
   "outputs": [
    {
     "data": {
      "text/plain": [
       "['from 1992 1999 kalam scientif advis india ’ defens minist , later serv princip scientif advis ( 1999–2001 ) govern , rank cabinet minist .',\n",
       " 'dure period play key role govern ’ weapon missil system , give india nuclear capabl .',\n",
       " 'in 1998 one chief coordin pokhran-ii seri nuclear test , five bomb deton test rang town pokhran , rajasthan state .',\n",
       " 'hi promin role countri ’ nuclear weapon test solidifi india nuclear power establish kalam nation hero , although test caus great concern intern commun .',\n",
       " 'in 1998 kalam put forward countrywid plan call technolog vision 2020 , describ road map transform india less-develop societi develop one 20 year .',\n",
       " 'among measur , plan call increas agricultur product , emphas technolog vehicl econom growth , widen']"
      ]
     },
     "execution_count": 34,
     "metadata": {},
     "output_type": "execute_result"
    }
   ],
   "source": [
    "sentance"
   ]
  },
  {
   "cell_type": "markdown",
   "id": "c23360dd-435e-4b2a-9b2e-cd4dbf6924dc",
   "metadata": {},
   "source": [
    "### Regexp semming"
   ]
  },
  {
   "cell_type": "code",
   "execution_count": 35,
   "id": "490de819-9da6-4535-ab1a-3ff767802d0a",
   "metadata": {},
   "outputs": [],
   "source": [
    "from nltk.stem import RegexpStemmer"
   ]
  },
  {
   "cell_type": "code",
   "execution_count": 36,
   "id": "cde6edbf-f6a9-4100-bf1f-0cbe6f184132",
   "metadata": {},
   "outputs": [],
   "source": [
    "regstemmer = RegexpStemmer('ing$|s$|e$|able$', min=4)"
   ]
  },
  {
   "cell_type": "code",
   "execution_count": 46,
   "id": "de70a7b0-d156-4e5b-ba51-abe8ba8195c4",
   "metadata": {},
   "outputs": [],
   "source": [
    "# word tokenize\n",
    "for i in range(len(sentance)):\n",
    "    words = nltk.word_tokenize(sentance[i])\n",
    "    words = [regstemmer.stem(word) for word in words if word not in set(stopwords.words('english'))]\n",
    "    sentance[i] = ' '.join(words)"
   ]
  },
  {
   "cell_type": "code",
   "execution_count": 47,
   "id": "a34f4e63-4dcf-4fc8-b2a3-b35e8c69f17e",
   "metadata": {},
   "outputs": [
    {
     "data": {
      "text/plain": [
       "['From 1992 1999 Kalam scientific adviser India ’ defens minister , later served principal scientific adviser ( 1999–2001 ) government , rank cabinet minister .',\n",
       " 'Dur period played key rol government ’ weaponization missil system , giv India nuclear capabilitie .',\n",
       " 'In 1998 one chief coordinator Pokhran-II serie nuclear test , fiv bomb detonated test rang town Pokhran , Rajasthan stat .',\n",
       " 'His prominent rol country ’ nuclear weapon test solidified India nuclear power established Kalam national hero , although test caused great concern international community .',\n",
       " 'In 1998 Kalam put forward countrywid plan called Technology Vision 2020 , described road map transform India less-developed society developed one 20 year .',\n",
       " 'Among measure , plan called increas agricultural productivity , emphasiz technology vehicl economic growth , widen']"
      ]
     },
     "execution_count": 47,
     "metadata": {},
     "output_type": "execute_result"
    }
   ],
   "source": [
    "sentance"
   ]
  },
  {
   "cell_type": "markdown",
   "id": "f80e5105-8cd4-4fd9-8ab8-12686027fc3e",
   "metadata": {},
   "source": [
    "### SnowBall semming"
   ]
  },
  {
   "cell_type": "code",
   "execution_count": 39,
   "id": "de733f01-d265-4368-8a9b-412237876250",
   "metadata": {},
   "outputs": [],
   "source": [
    "from nltk.stem import SnowballStemmer"
   ]
  },
  {
   "cell_type": "code",
   "execution_count": 40,
   "id": "73f996b0-da19-4740-b546-26f79b2ebe7f",
   "metadata": {},
   "outputs": [],
   "source": [
    "snowball = SnowballStemmer('english')"
   ]
  },
  {
   "cell_type": "code",
   "execution_count": 43,
   "id": "948e2f83-82c6-4b6d-97d4-a114f53af696",
   "metadata": {},
   "outputs": [],
   "source": [
    "for i in range(len(sentance)):\n",
    "    words = nltk.word_tokenize(sentance[i])\n",
    "    words = [snowball.stem(word) for word in words if word not in set(stopwords.words('english'))]\n",
    "    sentance[i] = ' '.join(words)"
   ]
  },
  {
   "cell_type": "code",
   "execution_count": 44,
   "id": "8fd7a7b2-1740-4032-8648-ef9604514822",
   "metadata": {},
   "outputs": [
    {
     "data": {
      "text/plain": [
       "['from 1992 1999 kalam scientif advis india ’ defens minist , later serv princip scientif advis ( 1999–2001 ) govern , rank cabinet minist .',\n",
       " 'dure period play key role govern ’ weapon missil system , give india nuclear capabl .',\n",
       " 'in 1998 one chief coordin pokhran-ii seri nuclear test , five bomb deton test rang town pokhran , rajasthan state .',\n",
       " 'his promin role countri ’ nuclear weapon test solidifi india nuclear power establish kalam nation hero , although test caus great concern intern communiti .',\n",
       " 'in 1998 kalam put forward countrywid plan call technolog vision 2020 , describ road map transform india less-develop societi develop one 20 year .',\n",
       " 'among measur , plan call increas agricultur product , emphas technolog vehicl econom growth , widen']"
      ]
     },
     "execution_count": 44,
     "metadata": {},
     "output_type": "execute_result"
    }
   ],
   "source": [
    "sentance"
   ]
  },
  {
   "cell_type": "markdown",
   "id": "85b61f35-3922-4924-8ac7-ff6af85621f3",
   "metadata": {},
   "source": [
    "# Lemitization"
   ]
  },
  {
   "cell_type": "code",
   "execution_count": 48,
   "id": "09767a49-d945-4332-b15a-a8e7398c1556",
   "metadata": {},
   "outputs": [],
   "source": [
    "from nltk.stem import WordNetLemmatizer"
   ]
  },
  {
   "cell_type": "code",
   "execution_count": 51,
   "id": "f283ff00-8bea-487e-80ec-5bc2d5b72292",
   "metadata": {},
   "outputs": [],
   "source": [
    "lwmmatizer = WordNetLemmatizer()"
   ]
  },
  {
   "cell_type": "code",
   "execution_count": 54,
   "id": "18bfba28-80dd-4404-8dc3-b4a77ab78673",
   "metadata": {},
   "outputs": [
    {
     "name": "stderr",
     "output_type": "stream",
     "text": [
      "[nltk_data] Downloading package wordnet to C:\\Users\\Yash\n",
      "[nltk_data]     sakhareliya\\AppData\\Roaming\\nltk_data...\n"
     ]
    },
    {
     "data": {
      "text/plain": [
       "True"
      ]
     },
     "execution_count": 54,
     "metadata": {},
     "output_type": "execute_result"
    }
   ],
   "source": [
    "nltk.download('wordnet')"
   ]
  },
  {
   "cell_type": "code",
   "execution_count": 55,
   "id": "6eeba4ec-945e-4343-8a56-60df6b70a2bf",
   "metadata": {},
   "outputs": [],
   "source": [
    "for i in range(len(sentance)):\n",
    "    words = nltk.word_tokenize(sentance[i])\n",
    "    words = [lwmmatizer.lemmatize(word) for word in words if word not in set(stopwords.words('english'))]\n",
    "    sentance[i] = ' '.join(words)"
   ]
  },
  {
   "cell_type": "code",
   "execution_count": 56,
   "id": "a4f4b013-675e-4dfa-80c6-0547bf2f8ebd",
   "metadata": {},
   "outputs": [
    {
     "data": {
      "text/plain": [
       "['From 1992 1999 Kalam scientific adviser India ’ defense minister , later served principal scientific adviser ( 1999–2001 ) government , rank cabinet minister .',\n",
       " 'During period played key role government ’ weaponization missile system , giving India nuclear capability .',\n",
       " 'In 1998 one chief coordinator Pokhran-II series nuclear test , five bomb detonated test range town Pokhran , Rajasthan state .',\n",
       " 'His prominent role country ’ nuclear weapon test solidified India nuclear power established Kalam national hero , although test caused great concern international community .',\n",
       " 'In 1998 Kalam put forward countrywide plan called Technology Vision 2020 , described road map transforming India less-developed society developed one 20 year .',\n",
       " 'Among measure , plan called increasing agricultural productivity , emphasizing technology vehicle economic growth , widening']"
      ]
     },
     "execution_count": 56,
     "metadata": {},
     "output_type": "execute_result"
    }
   ],
   "source": [
    "sentance"
   ]
  },
  {
   "cell_type": "markdown",
   "id": "0631b300-ee61-4a95-af14-36dc6192a682",
   "metadata": {},
   "source": [
    "# Speech taging"
   ]
  },
  {
   "cell_type": "code",
   "execution_count": null,
   "id": "8dfebd63-be35-4f9c-b576-d87607cf0f2c",
   "metadata": {},
   "outputs": [],
   "source": []
  }
 ],
 "metadata": {
  "kernelspec": {
   "display_name": "Python 3 (ipykernel)",
   "language": "python",
   "name": "python3"
  },
  "language_info": {
   "codemirror_mode": {
    "name": "ipython",
    "version": 3
   },
   "file_extension": ".py",
   "mimetype": "text/x-python",
   "name": "python",
   "nbconvert_exporter": "python",
   "pygments_lexer": "ipython3",
   "version": "3.12.4"
  }
 },
 "nbformat": 4,
 "nbformat_minor": 5
}
