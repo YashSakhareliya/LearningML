{
 "cells": [
  {
   "cell_type": "markdown",
   "id": "a4f30c08-dd68-4b68-b688-ebed8e10e074",
   "metadata": {},
   "source": [
    "# Spam Ham using Word2Vec"
   ]
  },
  {
   "cell_type": "code",
   "execution_count": 2,
   "id": "40be2ef2-2fdb-410e-9fe8-5ecc8a0664f8",
   "metadata": {},
   "outputs": [],
   "source": [
    "import numpy as np\n",
    "import pandas as pd\n",
    "from gensim.models import Word2Vec, keyedvectors"
   ]
  },
  {
   "cell_type": "code",
   "execution_count": null,
   "id": "ac402757-f023-4f7b-99cd-673a226025bb",
   "metadata": {},
   "outputs": [],
   "source": [
    "df = pd.read_csv('spam.csv',sep=',', encoding='latin1')"
   ]
  }
 ],
 "metadata": {
  "kernelspec": {
   "display_name": "Python 3",
   "language": "python",
   "name": "python3"
  },
  "language_info": {
   "codemirror_mode": {
    "name": "ipython",
    "version": 3
   },
   "file_extension": ".py",
   "mimetype": "text/x-python",
   "name": "python",
   "nbconvert_exporter": "python",
   "pygments_lexer": "ipython3",
   "version": "3.9.20"
  }
 },
 "nbformat": 4,
 "nbformat_minor": 5
}
