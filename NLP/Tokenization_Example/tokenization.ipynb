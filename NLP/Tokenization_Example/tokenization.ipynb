{
 "cells": [
  {
   "cell_type": "markdown",
   "id": "f28bd4e9-77ed-4551-a5a0-49f2064973f6",
   "metadata": {},
   "source": [
    "# NLP TOkenization"
   ]
  },
  {
   "cell_type": "code",
   "execution_count": 2,
   "id": "f44e810d-bfc4-4e11-b4d1-3a22b2165114",
   "metadata": {},
   "outputs": [],
   "source": [
    "from nltk.tokenize import word_tokenize,sent_tokenize"
   ]
  },
  {
   "cell_type": "code",
   "execution_count": 3,
   "id": "bb64d6f2-4b19-443a-8b19-3f4dd01c0e4f",
   "metadata": {},
   "outputs": [],
   "source": [
    "corpus = \"\"\" Hello my name is yash. i want to learn a nlt, dl and ml algotihtms.\n",
    "I am currently doing enginnearing in vadodara-Gujarat.\n",
    "\"\"\""
   ]
  },
  {
   "cell_type": "code",
   "execution_count": 4,
   "id": "a6f891ca-b799-40aa-b4f4-eb9a7eccc5d5",
   "metadata": {},
   "outputs": [
    {
     "name": "stdout",
     "output_type": "stream",
     "text": [
      " Hello my name is yash. i want to learn a nlt, dl and ml algotihtms.\n",
      "I am currently doing enginnearing in vadodara-Gujarat.\n",
      "\n"
     ]
    }
   ],
   "source": [
    "print(corpus)"
   ]
  },
  {
   "cell_type": "code",
   "execution_count": 9,
   "id": "ff12c2e6-7cfa-40c1-83e9-b06b7ad67879",
   "metadata": {},
   "outputs": [
    {
     "name": "stderr",
     "output_type": "stream",
     "text": [
      "[nltk_data] Downloading package punkt_tab to C:\\Users\\Yash\n",
      "[nltk_data]     sakhareliya\\AppData\\Roaming\\nltk_data...\n",
      "[nltk_data]   Package punkt_tab is already up-to-date!\n",
      "[nltk_data] Downloading package punkt to C:\\Users\\Yash\n",
      "[nltk_data]     sakhareliya\\AppData\\Roaming\\nltk_data...\n",
      "[nltk_data]   Unzipping tokenizers\\punkt.zip.\n"
     ]
    },
    {
     "data": {
      "text/plain": [
       "True"
      ]
     },
     "execution_count": 9,
     "metadata": {},
     "output_type": "execute_result"
    }
   ],
   "source": [
    "import nltk\n",
    "nltk.download('punkt_tab')\n",
    "nltk.download('punkt')\n"
   ]
  },
  {
   "cell_type": "code",
   "execution_count": 12,
   "id": "17fca871-89ef-4117-884a-5932e052329d",
   "metadata": {},
   "outputs": [],
   "source": [
    "documents=sent_tokenize(corpus)"
   ]
  },
  {
   "cell_type": "code",
   "execution_count": 13,
   "id": "c6f3c156-d8b7-4592-aa17-7e8b3e3e3075",
   "metadata": {},
   "outputs": [
    {
     "data": {
      "text/plain": [
       "[' Hello my name is yash.',\n",
       " 'i want to learn a nlt, dl and ml algotihtms.',\n",
       " 'I am currently doing enginnearing in vadodara-Gujarat.']"
      ]
     },
     "execution_count": 13,
     "metadata": {},
     "output_type": "execute_result"
    }
   ],
   "source": [
    "documents"
   ]
  },
  {
   "cell_type": "code",
   "execution_count": 11,
   "id": "289c7785-57d7-4c24-91bc-6a62f312e418",
   "metadata": {},
   "outputs": [
    {
     "data": {
      "text/plain": [
       "['Hello',\n",
       " 'my',\n",
       " 'name',\n",
       " 'is',\n",
       " 'yash',\n",
       " '.',\n",
       " 'i',\n",
       " 'want',\n",
       " 'to',\n",
       " 'learn',\n",
       " 'a',\n",
       " 'nlt',\n",
       " ',',\n",
       " 'dl',\n",
       " 'and',\n",
       " 'ml',\n",
       " 'algotihtms',\n",
       " '.',\n",
       " 'I',\n",
       " 'am',\n",
       " 'currently',\n",
       " 'doing',\n",
       " 'enginnearing',\n",
       " 'in',\n",
       " 'vadodara-Gujarat',\n",
       " '.']"
      ]
     },
     "execution_count": 11,
     "metadata": {},
     "output_type": "execute_result"
    }
   ],
   "source": [
    "word_tokenize(corpus)"
   ]
  },
  {
   "cell_type": "code",
   "execution_count": 15,
   "id": "fa4e97cd-4031-42f6-ae9f-68e83689a40a",
   "metadata": {},
   "outputs": [
    {
     "name": "stdout",
     "output_type": "stream",
     "text": [
      "['Hello', 'my', 'name', 'is', 'yash', '.']\n",
      "['i', 'want', 'to', 'learn', 'a', 'nlt', ',', 'dl', 'and', 'ml', 'algotihtms', '.']\n",
      "['I', 'am', 'currently', 'doing', 'enginnearing', 'in', 'vadodara-Gujarat', '.']\n"
     ]
    }
   ],
   "source": [
    "for sentence in documents:\n",
    "    print(word_tokenize(sentence))"
   ]
  },
  {
   "cell_type": "code",
   "execution_count": 16,
   "id": "959a610f-c06c-41a1-b96f-6db320bb0a87",
   "metadata": {},
   "outputs": [],
   "source": [
    "from nltk.tokenize import wordpunct_tokenize"
   ]
  },
  {
   "cell_type": "code",
   "execution_count": 17,
   "id": "61dfceb8-fe3f-4ff8-8929-34a44b2dc603",
   "metadata": {},
   "outputs": [
    {
     "data": {
      "text/plain": [
       "['Hello',\n",
       " 'my',\n",
       " 'name',\n",
       " 'is',\n",
       " 'yash',\n",
       " '.',\n",
       " 'i',\n",
       " 'want',\n",
       " 'to',\n",
       " 'learn',\n",
       " 'a',\n",
       " 'nlt',\n",
       " ',',\n",
       " 'dl',\n",
       " 'and',\n",
       " 'ml',\n",
       " 'algotihtms',\n",
       " '.',\n",
       " 'I',\n",
       " 'am',\n",
       " 'currently',\n",
       " 'doing',\n",
       " 'enginnearing',\n",
       " 'in',\n",
       " 'vadodara',\n",
       " '-',\n",
       " 'Gujarat',\n",
       " '.']"
      ]
     },
     "execution_count": 17,
     "metadata": {},
     "output_type": "execute_result"
    }
   ],
   "source": [
    "wordpunct_tokenize(corpus)"
   ]
  },
  {
   "cell_type": "code",
   "execution_count": null,
   "id": "ca1d848a-a8ea-4362-a326-6828f4f69248",
   "metadata": {},
   "outputs": [],
   "source": []
  }
 ],
 "metadata": {
  "kernelspec": {
   "display_name": "Python 3 (ipykernel)",
   "language": "python",
   "name": "python3"
  },
  "language_info": {
   "codemirror_mode": {
    "name": "ipython",
    "version": 3
   },
   "file_extension": ".py",
   "mimetype": "text/x-python",
   "name": "python",
   "nbconvert_exporter": "python",
   "pygments_lexer": "ipython3",
   "version": "3.12.4"
  }
 },
 "nbformat": 4,
 "nbformat_minor": 5
}
