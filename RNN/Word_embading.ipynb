{
 "cells": [
  {
   "cell_type": "code",
   "execution_count": 1,
   "id": "5661ae38-43ed-46b0-8e4b-c7cb68dd6daf",
   "metadata": {},
   "outputs": [],
   "source": [
    "import pandas as pd\n",
    "from tensorflow.keras.preprocessing.text import one_hot"
   ]
  },
  {
   "cell_type": "code",
   "execution_count": 2,
   "id": "30a4a05d-6374-4a8b-a269-90063988fcdc",
   "metadata": {},
   "outputs": [],
   "source": [
    "sent = [\n",
    "    'hello my name is yash',\n",
    "    'i am a profectional corder',\n",
    "    'my friend name is smit',\n",
    "    'this is also a corder',\n",
    "    'he wants to go a Germany'\n",
    "]"
   ]
  },
  {
   "cell_type": "code",
   "execution_count": 3,
   "id": "e3b6a0f6-c3bf-4f32-8ac1-a771e9ca6885",
   "metadata": {},
   "outputs": [
    {
     "data": {
      "text/plain": [
       "['hello my name is yash',\n",
       " 'i am a profectional corder',\n",
       " 'my friend name is smit',\n",
       " 'this is also a corder',\n",
       " 'he wants to go a Germany']"
      ]
     },
     "execution_count": 3,
     "metadata": {},
     "output_type": "execute_result"
    }
   ],
   "source": [
    "sent"
   ]
  },
  {
   "cell_type": "code",
   "execution_count": 4,
   "id": "63056662-06da-4993-b739-7792924adc58",
   "metadata": {},
   "outputs": [],
   "source": [
    "# define vocabulary size\n",
    "voc_size = 10000"
   ]
  },
  {
   "cell_type": "code",
   "execution_count": 5,
   "id": "cd4490a2-bb1d-44f1-a795-a23d9659aa8d",
   "metadata": {},
   "outputs": [],
   "source": [
    "# one hot reperasentation\n",
    "one_hot_rep = [one_hot(words,voc_size) for words in sent]"
   ]
  },
  {
   "cell_type": "code",
   "execution_count": 6,
   "id": "a486a644-38a4-4a87-a612-72b44dcbc5a3",
   "metadata": {},
   "outputs": [
    {
     "data": {
      "text/plain": [
       "[[8490, 8853, 4510, 4444, 3381],\n",
       " [5879, 6403, 3310, 6021, 3186],\n",
       " [8853, 6282, 4510, 4444, 3488],\n",
       " [8672, 4444, 3029, 3310, 3186],\n",
       " [8630, 8775, 1764, 5291, 3310, 5354]]"
      ]
     },
     "execution_count": 6,
     "metadata": {},
     "output_type": "execute_result"
    }
   ],
   "source": [
    "one_hot_rep"
   ]
  },
  {
   "cell_type": "code",
   "execution_count": 8,
   "id": "9bbee603-569e-4b40-8cd7-ad2ae733e2c4",
   "metadata": {},
   "outputs": [],
   "source": [
    "# Word Embading \n",
    "from tensorflow.keras.layers import Embedding\n",
    "# from tensorflow.keras.preprocessing.sequence import pad_sequences\n",
    "from tensorflow.keras.utils import pad_sequences\n",
    "from tensorflow.keras.models import Sequential"
   ]
  },
  {
   "cell_type": "code",
   "execution_count": 9,
   "id": "98c85d1a-daa2-4c62-8a46-09d7ef738810",
   "metadata": {},
   "outputs": [],
   "source": [
    "sent_length = 7\n",
    "embaded_docs = pad_sequences(one_hot_rep,maxlen=sent_length,padding='pre')"
   ]
  },
  {
   "cell_type": "code",
   "execution_count": 10,
   "id": "338d0252-0602-4cb2-b2f1-c3cd9bb4ea95",
   "metadata": {},
   "outputs": [
    {
     "data": {
      "text/plain": [
       "array([[   0,    0, 8490, 8853, 4510, 4444, 3381],\n",
       "       [   0,    0, 5879, 6403, 3310, 6021, 3186],\n",
       "       [   0,    0, 8853, 6282, 4510, 4444, 3488],\n",
       "       [   0,    0, 8672, 4444, 3029, 3310, 3186],\n",
       "       [   0, 8630, 8775, 1764, 5291, 3310, 5354]], dtype=int32)"
      ]
     },
     "execution_count": 10,
     "metadata": {},
     "output_type": "execute_result"
    }
   ],
   "source": [
    "embaded_docs"
   ]
  },
  {
   "cell_type": "code",
   "execution_count": 11,
   "id": "c9ab29e5-914a-405c-aeb5-1c8ddbf3bdba",
   "metadata": {},
   "outputs": [],
   "source": [
    "dim=10\n"
   ]
  },
  {
   "cell_type": "code",
   "execution_count": 13,
   "id": "940fced9-0f58-4cae-a9a5-16c08b7971f9",
   "metadata": {},
   "outputs": [],
   "source": [
    "model = Sequential()\n",
    "model.add(Embedding(voc_size,dim,input_length=sent_length))\n",
    "model.compile('adam','mse')"
   ]
  },
  {
   "cell_type": "code",
   "execution_count": 14,
   "id": "dee95bc5-8940-4780-9e87-4864e844197b",
   "metadata": {},
   "outputs": [
    {
     "data": {
      "text/html": [
       "<pre style=\"white-space:pre;overflow-x:auto;line-height:normal;font-family:Menlo,'DejaVu Sans Mono',consolas,'Courier New',monospace\"><span style=\"font-weight: bold\">Model: \"sequential_1\"</span>\n",
       "</pre>\n"
      ],
      "text/plain": [
       "\u001b[1mModel: \"sequential_1\"\u001b[0m\n"
      ]
     },
     "metadata": {},
     "output_type": "display_data"
    },
    {
     "data": {
      "text/html": [
       "<pre style=\"white-space:pre;overflow-x:auto;line-height:normal;font-family:Menlo,'DejaVu Sans Mono',consolas,'Courier New',monospace\">┏━━━━━━━━━━━━━━━━━━━━━━━━━━━━━━━━━━━━━━┳━━━━━━━━━━━━━━━━━━━━━━━━━━━━━┳━━━━━━━━━━━━━━━━━┓\n",
       "┃<span style=\"font-weight: bold\"> Layer (type)                         </span>┃<span style=\"font-weight: bold\"> Output Shape                </span>┃<span style=\"font-weight: bold\">         Param # </span>┃\n",
       "┡━━━━━━━━━━━━━━━━━━━━━━━━━━━━━━━━━━━━━━╇━━━━━━━━━━━━━━━━━━━━━━━━━━━━━╇━━━━━━━━━━━━━━━━━┩\n",
       "│ embedding_1 (<span style=\"color: #0087ff; text-decoration-color: #0087ff\">Embedding</span>)              │ ?                           │     <span style=\"color: #00af00; text-decoration-color: #00af00\">0</span> (unbuilt) │\n",
       "└──────────────────────────────────────┴─────────────────────────────┴─────────────────┘\n",
       "</pre>\n"
      ],
      "text/plain": [
       "┏━━━━━━━━━━━━━━━━━━━━━━━━━━━━━━━━━━━━━━┳━━━━━━━━━━━━━━━━━━━━━━━━━━━━━┳━━━━━━━━━━━━━━━━━┓\n",
       "┃\u001b[1m \u001b[0m\u001b[1mLayer (type)                        \u001b[0m\u001b[1m \u001b[0m┃\u001b[1m \u001b[0m\u001b[1mOutput Shape               \u001b[0m\u001b[1m \u001b[0m┃\u001b[1m \u001b[0m\u001b[1m        Param #\u001b[0m\u001b[1m \u001b[0m┃\n",
       "┡━━━━━━━━━━━━━━━━━━━━━━━━━━━━━━━━━━━━━━╇━━━━━━━━━━━━━━━━━━━━━━━━━━━━━╇━━━━━━━━━━━━━━━━━┩\n",
       "│ embedding_1 (\u001b[38;5;33mEmbedding\u001b[0m)              │ ?                           │     \u001b[38;5;34m0\u001b[0m (unbuilt) │\n",
       "└──────────────────────────────────────┴─────────────────────────────┴─────────────────┘\n"
      ]
     },
     "metadata": {},
     "output_type": "display_data"
    },
    {
     "data": {
      "text/html": [
       "<pre style=\"white-space:pre;overflow-x:auto;line-height:normal;font-family:Menlo,'DejaVu Sans Mono',consolas,'Courier New',monospace\"><span style=\"font-weight: bold\"> Total params: </span><span style=\"color: #00af00; text-decoration-color: #00af00\">0</span> (0.00 B)\n",
       "</pre>\n"
      ],
      "text/plain": [
       "\u001b[1m Total params: \u001b[0m\u001b[38;5;34m0\u001b[0m (0.00 B)\n"
      ]
     },
     "metadata": {},
     "output_type": "display_data"
    },
    {
     "data": {
      "text/html": [
       "<pre style=\"white-space:pre;overflow-x:auto;line-height:normal;font-family:Menlo,'DejaVu Sans Mono',consolas,'Courier New',monospace\"><span style=\"font-weight: bold\"> Trainable params: </span><span style=\"color: #00af00; text-decoration-color: #00af00\">0</span> (0.00 B)\n",
       "</pre>\n"
      ],
      "text/plain": [
       "\u001b[1m Trainable params: \u001b[0m\u001b[38;5;34m0\u001b[0m (0.00 B)\n"
      ]
     },
     "metadata": {},
     "output_type": "display_data"
    },
    {
     "data": {
      "text/html": [
       "<pre style=\"white-space:pre;overflow-x:auto;line-height:normal;font-family:Menlo,'DejaVu Sans Mono',consolas,'Courier New',monospace\"><span style=\"font-weight: bold\"> Non-trainable params: </span><span style=\"color: #00af00; text-decoration-color: #00af00\">0</span> (0.00 B)\n",
       "</pre>\n"
      ],
      "text/plain": [
       "\u001b[1m Non-trainable params: \u001b[0m\u001b[38;5;34m0\u001b[0m (0.00 B)\n"
      ]
     },
     "metadata": {},
     "output_type": "display_data"
    }
   ],
   "source": [
    "model.summary()"
   ]
  },
  {
   "cell_type": "code",
   "execution_count": 15,
   "id": "830ac1a9-3320-47a3-ab00-d0353ae41980",
   "metadata": {
    "scrolled": true
   },
   "outputs": [
    {
     "name": "stdout",
     "output_type": "stream",
     "text": [
      "\u001b[1m1/1\u001b[0m \u001b[32m━━━━━━━━━━━━━━━━━━━━\u001b[0m\u001b[37m\u001b[0m \u001b[1m1s\u001b[0m 505ms/step\n"
     ]
    },
    {
     "data": {
      "text/plain": [
       "array([[[-0.01342772, -0.02034134,  0.00113289,  0.0394588 ,\n",
       "         -0.04191116, -0.03841158, -0.01513759, -0.02420825,\n",
       "         -0.00625503,  0.00414507],\n",
       "        [-0.01342772, -0.02034134,  0.00113289,  0.0394588 ,\n",
       "         -0.04191116, -0.03841158, -0.01513759, -0.02420825,\n",
       "         -0.00625503,  0.00414507],\n",
       "        [ 0.04524044,  0.00713015, -0.0131866 , -0.03327936,\n",
       "          0.022541  , -0.02846267,  0.04360764,  0.00756235,\n",
       "          0.02962058,  0.0137626 ],\n",
       "        [ 0.00778475, -0.02926823,  0.00226083, -0.02863748,\n",
       "          0.00886279,  0.02417345,  0.01118139,  0.00576565,\n",
       "          0.02857853, -0.03676302],\n",
       "        [-0.02847532, -0.00366313,  0.01124803, -0.02579696,\n",
       "          0.02317175,  0.01269612,  0.03237951, -0.0271891 ,\n",
       "          0.03212393, -0.04145807],\n",
       "        [ 0.00261321, -0.00180066, -0.02478975, -0.01043703,\n",
       "          0.00503268,  0.04685966,  0.03797038,  0.03314948,\n",
       "         -0.02585398,  0.04474186],\n",
       "        [ 0.03942212, -0.0490253 , -0.01289604, -0.01844013,\n",
       "         -0.03275577, -0.03479234,  0.00716678,  0.03611741,\n",
       "          0.00540419, -0.04355139]],\n",
       "\n",
       "       [[-0.01342772, -0.02034134,  0.00113289,  0.0394588 ,\n",
       "         -0.04191116, -0.03841158, -0.01513759, -0.02420825,\n",
       "         -0.00625503,  0.00414507],\n",
       "        [-0.01342772, -0.02034134,  0.00113289,  0.0394588 ,\n",
       "         -0.04191116, -0.03841158, -0.01513759, -0.02420825,\n",
       "         -0.00625503,  0.00414507],\n",
       "        [-0.00292028, -0.0381218 , -0.03614425,  0.00868901,\n",
       "          0.00988842, -0.04448886, -0.03782394,  0.04178864,\n",
       "          0.04880741, -0.04742977],\n",
       "        [-0.04689793,  0.03951243,  0.04755889,  0.03520485,\n",
       "          0.04009619, -0.03603647, -0.02535975, -0.00722022,\n",
       "         -0.03190597,  0.00992735],\n",
       "        [ 0.02547804, -0.03255454,  0.00452914, -0.02095017,\n",
       "         -0.04792223,  0.0284535 , -0.00096966,  0.01244383,\n",
       "          0.00415689,  0.02699831],\n",
       "        [ 0.04162986,  0.01231892,  0.03855919, -0.01815928,\n",
       "          0.01441649,  0.01951691,  0.00880431,  0.04556713,\n",
       "         -0.00806697,  0.04112292],\n",
       "        [-0.01185375, -0.01779246, -0.04271714,  0.02072019,\n",
       "         -0.04480953, -0.01152731,  0.0158092 , -0.04585252,\n",
       "          0.04002487,  0.02125536]],\n",
       "\n",
       "       [[-0.01342772, -0.02034134,  0.00113289,  0.0394588 ,\n",
       "         -0.04191116, -0.03841158, -0.01513759, -0.02420825,\n",
       "         -0.00625503,  0.00414507],\n",
       "        [-0.01342772, -0.02034134,  0.00113289,  0.0394588 ,\n",
       "         -0.04191116, -0.03841158, -0.01513759, -0.02420825,\n",
       "         -0.00625503,  0.00414507],\n",
       "        [ 0.00778475, -0.02926823,  0.00226083, -0.02863748,\n",
       "          0.00886279,  0.02417345,  0.01118139,  0.00576565,\n",
       "          0.02857853, -0.03676302],\n",
       "        [ 0.00275677,  0.00244902,  0.01123376,  0.03710792,\n",
       "         -0.00019972, -0.02762119, -0.02241759, -0.01105592,\n",
       "          0.04024204,  0.04553567],\n",
       "        [-0.02847532, -0.00366313,  0.01124803, -0.02579696,\n",
       "          0.02317175,  0.01269612,  0.03237951, -0.0271891 ,\n",
       "          0.03212393, -0.04145807],\n",
       "        [ 0.00261321, -0.00180066, -0.02478975, -0.01043703,\n",
       "          0.00503268,  0.04685966,  0.03797038,  0.03314948,\n",
       "         -0.02585398,  0.04474186],\n",
       "        [-0.02025992,  0.01734762,  0.01242607, -0.03988708,\n",
       "         -0.0145901 , -0.02221158,  0.04435528, -0.02621764,\n",
       "         -0.00512643, -0.02858396]],\n",
       "\n",
       "       [[-0.01342772, -0.02034134,  0.00113289,  0.0394588 ,\n",
       "         -0.04191116, -0.03841158, -0.01513759, -0.02420825,\n",
       "         -0.00625503,  0.00414507],\n",
       "        [-0.01342772, -0.02034134,  0.00113289,  0.0394588 ,\n",
       "         -0.04191116, -0.03841158, -0.01513759, -0.02420825,\n",
       "         -0.00625503,  0.00414507],\n",
       "        [ 0.02416757,  0.00311582,  0.03235562,  0.03509757,\n",
       "          0.01367051,  0.03261209,  0.00532212,  0.02128181,\n",
       "          0.02370625,  0.01815381],\n",
       "        [ 0.00261321, -0.00180066, -0.02478975, -0.01043703,\n",
       "          0.00503268,  0.04685966,  0.03797038,  0.03314948,\n",
       "         -0.02585398,  0.04474186],\n",
       "        [-0.02709889, -0.02065741,  0.00213919,  0.01403811,\n",
       "         -0.02338014,  0.03677733,  0.0294777 ,  0.01930347,\n",
       "          0.01120143,  0.03424149],\n",
       "        [ 0.02547804, -0.03255454,  0.00452914, -0.02095017,\n",
       "         -0.04792223,  0.0284535 , -0.00096966,  0.01244383,\n",
       "          0.00415689,  0.02699831],\n",
       "        [-0.01185375, -0.01779246, -0.04271714,  0.02072019,\n",
       "         -0.04480953, -0.01152731,  0.0158092 , -0.04585252,\n",
       "          0.04002487,  0.02125536]],\n",
       "\n",
       "       [[-0.01342772, -0.02034134,  0.00113289,  0.0394588 ,\n",
       "         -0.04191116, -0.03841158, -0.01513759, -0.02420825,\n",
       "         -0.00625503,  0.00414507],\n",
       "        [-0.03143177, -0.00360661, -0.02260794,  0.01363791,\n",
       "          0.0012262 ,  0.04335984,  0.04386694, -0.01156049,\n",
       "          0.02201723, -0.02831124],\n",
       "        [-0.02971913,  0.04569883, -0.0275998 , -0.04327518,\n",
       "         -0.0114669 , -0.03761114, -0.02135081, -0.04801501,\n",
       "         -0.02757267, -0.01619225],\n",
       "        [ 0.0388254 , -0.03007919,  0.02382861, -0.00363187,\n",
       "          0.00574335,  0.04143045,  0.00105044,  0.01214142,\n",
       "          0.01936786,  0.00917313],\n",
       "        [ 0.04677541,  0.00605025,  0.0457507 ,  0.00482879,\n",
       "          0.03957291,  0.00911474, -0.02503513, -0.03815001,\n",
       "          0.00673947,  0.01443473],\n",
       "        [ 0.02547804, -0.03255454,  0.00452914, -0.02095017,\n",
       "         -0.04792223,  0.0284535 , -0.00096966,  0.01244383,\n",
       "          0.00415689,  0.02699831],\n",
       "        [-0.04769485,  0.03233588, -0.04819291, -0.02438854,\n",
       "         -0.04876835,  0.01524458, -0.03825002,  0.04129921,\n",
       "          0.02270044,  0.0053141 ]]], dtype=float32)"
      ]
     },
     "execution_count": 15,
     "metadata": {},
     "output_type": "execute_result"
    }
   ],
   "source": [
    "model.predict(embaded_docs)"
   ]
  },
  {
   "cell_type": "code",
   "execution_count": null,
   "id": "f08595a7-3ba4-4ab1-b7fb-48d6c1a63193",
   "metadata": {},
   "outputs": [],
   "source": []
  }
 ],
 "metadata": {
  "kernelspec": {
   "display_name": "Python 3",
   "language": "python",
   "name": "python3"
  },
  "language_info": {
   "codemirror_mode": {
    "name": "ipython",
    "version": 3
   },
   "file_extension": ".py",
   "mimetype": "text/x-python",
   "name": "python",
   "nbconvert_exporter": "python",
   "pygments_lexer": "ipython3",
   "version": "3.9.20"
  }
 },
 "nbformat": 4,
 "nbformat_minor": 5
}
